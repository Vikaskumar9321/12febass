{
 "cells": [
  {
   "cell_type": "markdown",
   "id": "24310885-f460-44fe-b055-d011bf6c9f28",
   "metadata": {},
   "source": [
    "#ans 1"
   ]
  },
  {
   "cell_type": "code",
   "execution_count": 2,
   "id": "822f057c-1805-49db-adc0-8efd81a0ab55",
   "metadata": {},
   "outputs": [],
   "source": [
    "import logging"
   ]
  },
  {
   "cell_type": "code",
   "execution_count": 3,
   "id": "0b519b72-24e1-4d60-8243-d2945144cbfd",
   "metadata": {},
   "outputs": [],
   "source": [
    "logging.basicConfig(filename = \"test1.log\" , level = logging.DEBUG, format = '%(asctime)s %(message)s')"
   ]
  },
  {
   "cell_type": "code",
   "execution_count": 4,
   "id": "23d6abdb-e7fb-4408-9ed0-7cdd6cb88f2f",
   "metadata": {},
   "outputs": [
    {
     "data": {
      "text/plain": [
       "(None,)"
      ]
     },
     "execution_count": 4,
     "metadata": {},
     "output_type": "execute_result"
    }
   ],
   "source": [
    "logging.info(\"In python , an Execption is a type of error that occurs during the execution of a program. when an exception occurs, the program stops running and raises an error meggage, allowing the programmer to identify and fix the issue.\")\n",
    "logging.info(\"Exception can occurs for various reasons, such as attempting to divide by zero, accessing an undefined variable, or opening a file that doesn't exist. In python, execption are represented by object that inherit from the base class 'Exception ' and can be caught and handled using try except block\"),\n",
    "logging.info(\"Syntax error, on the other hand, are errors that occur when the code violates the rules of the python language.these error are detected by the python interpreter during the parsing of the code, and the program will not execute until the syntax errors are fixed. Syntax errors acn occur due to misspelled keywords, missing brackets or parenthese, or incorrect indentation\"),\n",
    "logging.info(\"the key difference between Execption and syntax errors in Python is that Exception occur during the execution of the pogram when a specific error condition is met, while syntax errors occurs during the parsing of the code when the python interpreter detedcts an erroe in the syntax of the code\"),"
   ]
  },
  {
   "cell_type": "code",
   "execution_count": 5,
   "id": "c49f3a20-85cf-4105-81b4-8d899fc8391c",
   "metadata": {},
   "outputs": [],
   "source": [
    "logging.shutdown()"
   ]
  },
  {
   "cell_type": "markdown",
   "id": "90ebf6c4-3046-4135-bf0e-a1923fac891e",
   "metadata": {},
   "source": [
    "#Ans 2"
   ]
  },
  {
   "cell_type": "code",
   "execution_count": 6,
   "id": "523a337d-d365-4872-8762-b1b9bf53b553",
   "metadata": {},
   "outputs": [],
   "source": [
    "logging.basicConfig(filename = \"test2.log\", level = logging.DEBUG, format = '%(asctime)s %(meggage)s')"
   ]
  },
  {
   "cell_type": "code",
   "execution_count": 7,
   "id": "8578dec2-68ac-45eb-b249-7a7031ca50e2",
   "metadata": {},
   "outputs": [],
   "source": [
    "logging.info(\"When an Exception is not handled, the program will terminate abruptly and an error message will be displayed to the user. This can cause data loss and other issues if the program was in the middle of executing an important task\")\n"
   ]
  },
  {
   "cell_type": "code",
   "execution_count": 8,
   "id": "34f8f969-981e-41e8-af52-0cf7b0a3d69f",
   "metadata": {},
   "outputs": [],
   "source": [
    "a = 20"
   ]
  },
  {
   "cell_type": "code",
   "execution_count": 9,
   "id": "fbe739e1-afd8-45b1-86b8-0324a08c28e6",
   "metadata": {},
   "outputs": [
    {
     "ename": "ZeroDivisionError",
     "evalue": "division by zero",
     "output_type": "error",
     "traceback": [
      "\u001b[0;31m---------------------------------------------------------------------------\u001b[0m",
      "\u001b[0;31mZeroDivisionError\u001b[0m                         Traceback (most recent call last)",
      "Cell \u001b[0;32mIn[9], line 1\u001b[0m\n\u001b[0;32m----> 1\u001b[0m \u001b[43ma\u001b[49m\u001b[38;5;241;43m/\u001b[39;49m\u001b[38;5;241;43m0\u001b[39;49m\n",
      "\u001b[0;31mZeroDivisionError\u001b[0m: division by zero"
     ]
    }
   ],
   "source": [
    "a/0"
   ]
  },
  {
   "cell_type": "code",
   "execution_count": 10,
   "id": "dbf285ab-cd9a-4b8e-b07c-db9817d3ac73",
   "metadata": {},
   "outputs": [],
   "source": [
    "try : \n",
    "    f = open(\"newtest.txt\" , 'r')\n",
    "except Exception as e :\n",
    "    print(\"this is my except block\" , e)"
   ]
  },
  {
   "cell_type": "code",
   "execution_count": 11,
   "id": "012aeab7-cd7f-42a0-add2-2508f6c48e39",
   "metadata": {},
   "outputs": [],
   "source": [
    "try :\n",
    "    f = open(\"newtest.txt\" , 'w' )\n",
    "    logging.info(f.write(\"write into my file\"))\n",
    "                \n",
    "except Exception as e :\n",
    "                print(\"this is my except block\", e)"
   ]
  },
  {
   "cell_type": "code",
   "execution_count": 12,
   "id": "f2bae560-675e-4b78-9808-31b44b8ba9e4",
   "metadata": {},
   "outputs": [],
   "source": [
    "logging.shutdown()"
   ]
  },
  {
   "cell_type": "markdown",
   "id": "5c270505-91d8-4774-8428-f00486e3807a",
   "metadata": {},
   "source": [
    "#Ans 3"
   ]
  },
  {
   "cell_type": "markdown",
   "id": "7154f624-bc7d-416f-99b8-3a67ee3dc614",
   "metadata": {},
   "source": [
    "In python, we use 'try' and 'except' statement to catch and handle exception"
   ]
  },
  {
   "cell_type": "code",
   "execution_count": 14,
   "id": "0ac9e493-e712-44ea-b259-1c9a7e183320",
   "metadata": {},
   "outputs": [
    {
     "name": "stdin",
     "output_type": "stream",
     "text": [
      "Enter a number:  20\n",
      "Enter the another number 2\n"
     ]
    },
    {
     "name": "stdout",
     "output_type": "stream",
     "text": [
      "10.0\n"
     ]
    }
   ],
   "source": [
    "try :\n",
    "    f = open(\"newtest2.txt\", 'w')\n",
    "    f.write(\"Write a division code\")\n",
    "    num1 = int(input(\"Enter a number: \"))\n",
    "    num2 = int(input(\"Enter the another number\"))\n",
    "    result = num1 / num2\n",
    "    print(result)\n",
    "except Exception as e :\n",
    "    print(result , e)\n",
    "else :\n",
    "    f.close()"
   ]
  },
  {
   "cell_type": "markdown",
   "id": "b9fdafcb-3b22-4fd8-bd71-1273f810c7f1",
   "metadata": {},
   "source": [
    "#Ans 4"
   ]
  },
  {
   "cell_type": "code",
   "execution_count": 15,
   "id": "7f6f6678-88e2-4579-af34-5320227f1d05",
   "metadata": {},
   "outputs": [],
   "source": [
    "logging.basicConfig(filename = \"test3.log\", level = logging.DEBUG, format = '%(asctime)s %(meggage)s')"
   ]
  },
  {
   "cell_type": "code",
   "execution_count": 16,
   "id": "436d612b-97c0-4b41-be53-23c8f9d9604d",
   "metadata": {},
   "outputs": [],
   "source": [
    "logging.info(\"try and except are used in python to handle exception that might occur during the execution of a program\")\n",
    "logging.info(\"Python also provides an optional 'else' block that can be used in conjuction with 'try'. the else block is executed only if non exception is raised in the try block\" )\n"
   ]
  },
  {
   "cell_type": "code",
   "execution_count": 18,
   "id": "679a389c-a395-4644-a03d-4cad42441e82",
   "metadata": {},
   "outputs": [
    {
     "name": "stdin",
     "output_type": "stream",
     "text": [
      "Enter the first number:  20\n",
      "Enter the second number:  0\n"
     ]
    },
    {
     "name": "stdout",
     "output_type": "stream",
     "text": [
      "Error: division by zero\n"
     ]
    }
   ],
   "source": [
    "try :\n",
    "    x = int(input(\"Enter the first number: \" ))\n",
    "    y = int(input(\"Enter the second number: \"))\n",
    "    z = x/y\n",
    "except ZeroDivisionError:\n",
    "    print(\"Error: division by zero\")\n",
    "else :\n",
    "    print(\"The result is : \", z)"
   ]
  },
  {
   "cell_type": "code",
   "execution_count": 19,
   "id": "787442f3-39e0-4cd6-8169-8d77cb4931b9",
   "metadata": {},
   "outputs": [],
   "source": [
    "logging.info(\"if we want to run some code regardless of whether an execption occurs or not, you can use the 'finally' block. the code inside the finally block will always be executed, whether an exception occurs or not \")"
   ]
  },
  {
   "cell_type": "code",
   "execution_count": 20,
   "id": "71e34668-701a-4844-beef-e87e2d9d1ebd",
   "metadata": {},
   "outputs": [
    {
     "name": "stdout",
     "output_type": "stream",
     "text": [
      "Finally will execute itself in any situation\n"
     ]
    },
    {
     "ename": "FileNotFoundError",
     "evalue": "[Errno 2] No such file or directory: 'newtest1.txt'",
     "output_type": "error",
     "traceback": [
      "\u001b[0;31m---------------------------------------------------------------------------\u001b[0m",
      "\u001b[0;31mFileNotFoundError\u001b[0m                         Traceback (most recent call last)",
      "Cell \u001b[0;32mIn[20], line 2\u001b[0m\n\u001b[1;32m      1\u001b[0m \u001b[38;5;28;01mtry\u001b[39;00m :\n\u001b[0;32m----> 2\u001b[0m     f \u001b[38;5;241m=\u001b[39m \u001b[38;5;28;43mopen\u001b[39;49m\u001b[43m(\u001b[49m\u001b[38;5;124;43m\"\u001b[39;49m\u001b[38;5;124;43mnewtest1.txt\u001b[39;49m\u001b[38;5;124;43m\"\u001b[39;49m\u001b[43m \u001b[49m\u001b[43m,\u001b[49m\u001b[43m \u001b[49m\u001b[38;5;124;43m'\u001b[39;49m\u001b[38;5;124;43mr\u001b[39;49m\u001b[38;5;124;43m'\u001b[39;49m\u001b[43m)\u001b[49m\n\u001b[1;32m      3\u001b[0m     f\u001b[38;5;241m.\u001b[39mwrite(\u001b[38;5;124m\"\u001b[39m\u001b[38;5;124mWrite somethig else\u001b[39m\u001b[38;5;124m\"\u001b[39m)\n\u001b[1;32m      4\u001b[0m \u001b[38;5;28;01mfinally\u001b[39;00m :\n",
      "File \u001b[0;32m/opt/conda/lib/python3.10/site-packages/IPython/core/interactiveshell.py:282\u001b[0m, in \u001b[0;36m_modified_open\u001b[0;34m(file, *args, **kwargs)\u001b[0m\n\u001b[1;32m    275\u001b[0m \u001b[38;5;28;01mif\u001b[39;00m file \u001b[38;5;129;01min\u001b[39;00m {\u001b[38;5;241m0\u001b[39m, \u001b[38;5;241m1\u001b[39m, \u001b[38;5;241m2\u001b[39m}:\n\u001b[1;32m    276\u001b[0m     \u001b[38;5;28;01mraise\u001b[39;00m \u001b[38;5;167;01mValueError\u001b[39;00m(\n\u001b[1;32m    277\u001b[0m         \u001b[38;5;124mf\u001b[39m\u001b[38;5;124m\"\u001b[39m\u001b[38;5;124mIPython won\u001b[39m\u001b[38;5;124m'\u001b[39m\u001b[38;5;124mt let you open fd=\u001b[39m\u001b[38;5;132;01m{\u001b[39;00mfile\u001b[38;5;132;01m}\u001b[39;00m\u001b[38;5;124m by default \u001b[39m\u001b[38;5;124m\"\u001b[39m\n\u001b[1;32m    278\u001b[0m         \u001b[38;5;124m\"\u001b[39m\u001b[38;5;124mas it is likely to crash IPython. If you know what you are doing, \u001b[39m\u001b[38;5;124m\"\u001b[39m\n\u001b[1;32m    279\u001b[0m         \u001b[38;5;124m\"\u001b[39m\u001b[38;5;124myou can use builtins\u001b[39m\u001b[38;5;124m'\u001b[39m\u001b[38;5;124m open.\u001b[39m\u001b[38;5;124m\"\u001b[39m\n\u001b[1;32m    280\u001b[0m     )\n\u001b[0;32m--> 282\u001b[0m \u001b[38;5;28;01mreturn\u001b[39;00m \u001b[43mio_open\u001b[49m\u001b[43m(\u001b[49m\u001b[43mfile\u001b[49m\u001b[43m,\u001b[49m\u001b[43m \u001b[49m\u001b[38;5;241;43m*\u001b[39;49m\u001b[43margs\u001b[49m\u001b[43m,\u001b[49m\u001b[43m \u001b[49m\u001b[38;5;241;43m*\u001b[39;49m\u001b[38;5;241;43m*\u001b[39;49m\u001b[43mkwargs\u001b[49m\u001b[43m)\u001b[49m\n",
      "\u001b[0;31mFileNotFoundError\u001b[0m: [Errno 2] No such file or directory: 'newtest1.txt'"
     ]
    }
   ],
   "source": [
    "try :\n",
    "    f = open(\"newtest1.txt\" , 'r')\n",
    "    f.write(\"Write somethig else\")\n",
    "finally :\n",
    "    print(\"Finally will execute itself in any situation\")"
   ]
  },
  {
   "cell_type": "code",
   "execution_count": 21,
   "id": "51f6f56f-2edc-4aac-a542-e12578ec7d05",
   "metadata": {},
   "outputs": [],
   "source": [
    "logging.info(\"We can raise exceptions manually using the 'raise' statement. the  'raise' statement is used to raise an exception with a specified message.\")"
   ]
  },
  {
   "cell_type": "code",
   "execution_count": 23,
   "id": "a4a5fd94-59f1-4d53-8108-8d0f11529169",
   "metadata": {},
   "outputs": [
    {
     "name": "stdout",
     "output_type": "stream",
     "text": [
      "Error: Cannot divide by zero\n"
     ]
    }
   ],
   "source": [
    "def divide(x, y):\n",
    "    if y == 0:\n",
    "        raise ZeroDivisionError(\"Cannot divide by zero\")\n",
    "    return x / y\n",
    "\n",
    "try:\n",
    "    result = divide(10, 0)\n",
    "except ZeroDivisionError as e:\n",
    "    print(\"Error:\", e)"
   ]
  },
  {
   "cell_type": "code",
   "execution_count": 24,
   "id": "06216cdb-a1f0-48a6-952f-4b2a527be7f6",
   "metadata": {},
   "outputs": [],
   "source": [
    "logging.shutdown()"
   ]
  },
  {
   "cell_type": "markdown",
   "id": "024e3724-8db4-4ff6-bc1c-1da10d98713d",
   "metadata": {},
   "source": [
    "#Ans5 "
   ]
  },
  {
   "cell_type": "code",
   "execution_count": 25,
   "id": "09a571c4-bad2-4e2f-b72f-7a93fb993c8e",
   "metadata": {},
   "outputs": [],
   "source": [
    "logging.basicConfig(filename = \"test3.log\", level = logging.DEBUG, format = '%(asctime)s %(meggage)s')"
   ]
  },
  {
   "cell_type": "code",
   "execution_count": 26,
   "id": "68ec5701-c2ac-4bde-a055-e0570c350be3",
   "metadata": {},
   "outputs": [],
   "source": [
    "logging.info(\"Custom exception are user-defined exception is python thaat are created by the programmer to handle specific errors that are not handled by the built-in exceptions in python. in python, all exceptions are derived from the base ' exception' class, so creating a custom exception involves defining a new class that inherits from 'exception' or onr of its subclasses\" )\n",
    "logging.info(\"we need custom exception in python because they allows us to define and handle errors that are specific to our program or application. by creating a custom exception, we can provide more meaningfiul error messages to the user and make it easiere to debug and maintain our code\")"
   ]
  },
  {
   "cell_type": "code",
   "execution_count": 28,
   "id": "1688d526-d2ae-446e-99a2-243a6697fee5",
   "metadata": {},
   "outputs": [
    {
     "name": "stdout",
     "output_type": "stream",
     "text": [
      "Error Number cannot be negative\n"
     ]
    }
   ],
   "source": [
    "class NegativeNumberError(Exception):\n",
    "    def __init__(self, message = \"Number cannot be negative\"):\n",
    "        self.message = message\n",
    "        super().__init__(self.message)\n",
    "        \n",
    "def square_root(x):\n",
    "    if x < 0 :\n",
    "        raise NegativeNumberError()\n",
    "    return x**0.5\n",
    "try:\n",
    "    result = square_root(-4)\n",
    "    \n",
    "except NegativeNumberError as e :\n",
    "    print(\"Error\" ,  e)"
   ]
  },
  {
   "cell_type": "code",
   "execution_count": 29,
   "id": "3ff700e6-6eed-4be8-81fc-5411784518b6",
   "metadata": {},
   "outputs": [],
   "source": [
    "logging.shutdown()"
   ]
  },
  {
   "cell_type": "code",
   "execution_count": 30,
   "id": "a99eb800-7efb-4c94-9922-1cb986c5a834",
   "metadata": {},
   "outputs": [],
   "source": [
    "logging.basicConfig(filename = \"test4.log\", level = logging.DEBUG, format = '%(asctime)s %(meggage)s')"
   ]
  },
  {
   "cell_type": "code",
   "execution_count": 32,
   "id": "20842a1d-3427-4e00-80ec-a5edca0f189f",
   "metadata": {},
   "outputs": [
    {
     "name": "stdin",
     "output_type": "stream",
     "text": [
      "Enter a number between 1 and 10:  9\n"
     ]
    },
    {
     "name": "stdout",
     "output_type": "stream",
     "text": [
      "User entered: 9\n"
     ]
    }
   ],
   "source": [
    "class InvalidInput(Exception):\n",
    "    def __init__(self, message= \"Invalid input\"):\n",
    "        self.message = message\n",
    "        super().__init__(self.message)\n",
    "        \n",
    "def get_user():\n",
    "    user_input = input(\"Enter a number between 1 and 10: \")\n",
    "    if not user_input.isdigit() or int(user_input) < 1 or int(user_input) > 10:\n",
    "        raise InvalidInputError()\n",
    "    return int(user_input)\n",
    "\n",
    "try:\n",
    "    user_num = get_user()\n",
    "    print(\"User entered:\", user_num)\n",
    "except InvalidInputError as e:\n",
    "    print(\"Error:\", e)"
   ]
  },
  {
   "cell_type": "code",
   "execution_count": null,
   "id": "2f8a2c5d-b038-4d60-933b-3b48a3bd3a67",
   "metadata": {},
   "outputs": [],
   "source": []
  }
 ],
 "metadata": {
  "kernelspec": {
   "display_name": "Python 3 (ipykernel)",
   "language": "python",
   "name": "python3"
  },
  "language_info": {
   "codemirror_mode": {
    "name": "ipython",
    "version": 3
   },
   "file_extension": ".py",
   "mimetype": "text/x-python",
   "name": "python",
   "nbconvert_exporter": "python",
   "pygments_lexer": "ipython3",
   "version": "3.10.8"
  }
 },
 "nbformat": 4,
 "nbformat_minor": 5
}
